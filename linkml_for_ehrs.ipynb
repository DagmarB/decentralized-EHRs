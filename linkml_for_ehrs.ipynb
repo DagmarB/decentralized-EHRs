{
 "cells": [
  {
   "cell_type": "markdown",
   "source": "# Biolink Metamodel Test Notebook",
   "metadata": {
    "cell_id": "6df5cf82-5b4c-4719-8cdd-357efd527091",
    "deepnote_cell_type": "markdown",
    "deepnote_cell_height": 82
   }
  },
  {
   "cell_type": "code",
   "metadata": {
    "execution": {
     "iopub.execute_input": "2021-04-02T22:12:19.348629Z",
     "iopub.status.busy": "2021-04-02T22:12:19.347893Z",
     "iopub.status.idle": "2021-04-02T22:12:21.068424Z",
     "shell.execute_reply": "2021-04-02T22:12:21.068833Z"
    },
    "cell_id": "00001-20a5f622-87a6-4d8c-baef-4513b08b19cc",
    "deepnote_to_be_reexecuted": false,
    "source_hash": "6a4eaa5a",
    "execution_start": 1655111369147,
    "execution_millis": 43,
    "deepnote_cell_type": "code",
    "deepnote_cell_height": 81
   },
   "source": "%reload_ext yamlmagic",
   "execution_count": null,
   "outputs": []
  },
  {
   "cell_type": "code",
   "metadata": {
    "execution": {
     "iopub.execute_input": "2021-04-02T22:12:21.074327Z",
     "iopub.status.busy": "2021-04-02T22:12:21.073079Z",
     "iopub.status.idle": "2021-04-02T22:12:21.668809Z",
     "shell.execute_reply": "2021-04-02T22:12:21.669211Z"
    },
    "cell_id": "00004-f9d93556-9171-45bd-bb7c-5562becfdb63",
    "deepnote_to_be_reexecuted": false,
    "source_hash": "b357728",
    "execution_start": 1655111369191,
    "execution_millis": 727,
    "owner_user_id": "f9132925-5ee8-46e8-968a-bbf9ef9cebfd",
    "deepnote_cell_type": "code",
    "deepnote_cell_height": 279
   },
   "source": "from IPython.core.display import display, HTML\nfrom types import ModuleType\n\nfrom jsonasobj import as_json, loads\nfrom rdflib import Graph\n\nfrom linkml.generators.jsonldcontextgen import ContextGenerator\nfrom linkml.generators.pythongen import PythonGenerator\nfrom linkml.generators.shexgen import ShExGenerator\nfrom linkml.generators.yumlgen import YumlGenerator\nfrom linkml_runtime.utils.yamlutils import DupCheckYamlLoader\nfrom linkml_runtime.dumpers import json_dumper",
   "execution_count": null,
   "outputs": []
  },
  {
   "cell_type": "markdown",
   "source": "## Basic model structure\nA biolink model consists of:\n* a name\n* a uri\n* type definitions\n* slot definitions\n* class definitions\n* subset definitions\n\nAs an example, the model below defines:",
   "metadata": {
    "cell_id": "00005-750c4e17-8a81-4be1-8b90-aac9065f6f0a",
    "owner_user_id": "cbe4485a-9537-4612-a961-8ae079dc1008",
    "deepnote_cell_type": "markdown",
    "deepnote_cell_height": 308.1875
   }
  },
  {
   "cell_type": "code",
   "metadata": {
    "execution": {
     "iopub.execute_input": "2021-04-02T22:12:21.678874Z",
     "iopub.status.busy": "2021-04-02T22:12:21.678289Z",
     "iopub.status.idle": "2021-04-02T22:12:21.689131Z",
     "shell.execute_reply": "2021-04-02T22:12:21.690011Z"
    },
    "cell_id": "00006-a7365c58-de09-4502-8314-5da57a4d7d55",
    "deepnote_to_be_reexecuted": false,
    "source_hash": "23ce2adf",
    "execution_start": 1655111369929,
    "execution_millis": 44,
    "deepnote_cell_type": "code",
    "deepnote_cell_height": 1449,
    "deepnote_output_heights": [
     2
    ]
   },
   "source": "%%yaml --loader DupCheckYamlLoader yaml\nid: http://example.org/sample/example1\nname: synopsis2\nprefixes:\n    foaf: http://xmlns.com/foaf/0.1/\n    samp: http://example.org/model/\n    xsd: http://www.w3.org/2001/XMLSchema#\n\ndefault_prefix: samp\n\ndefault_curi_maps:\n    - semweb_context\n\ndefault_range: string\n\ntypes:\n    string:\n        base: str\n        uri: xsd:string\n    int:\n        base: int\n        uri: xsd:integer\n    boolean:\n        base: Bool\n        uri: xsd:boolean\n\n\nclasses:\n    person:\n        description: A person, living or dead\n        slots:\n            - id\n            - first name\n            - last name\n            - age\n            - living\n            - knows\n\n    friendly_person:\n        description: Any person that knows someone\n        is_a: person\n        slot_usage:\n            knows:\n                required: True\n\nslots:\n    id:\n        description: Unique identifier of a person\n        identifier: true\n\n    first name:\n        description: The first name of a person\n        slot_uri: foaf:firstName\n        multivalued: true\n\n    last name:\n        description: The last name of a person\n        slot_uri: foaf:lastName\n        required: true\n\n    living:\n        description: Whether the person is alive\n        range: boolean\n        comments:\n            - unspecified means unknown\n\n    age:\n        description: The age of a person if living or age of death if not\n        range: int\n        slot_uri: foaf:age\n\n    knows:\n        description: A person known by this person (indicating some level of reciprocated interaction between the parties).\n        range: person\n        slot_uri: foaf:knows\n        multivalued: true",
   "execution_count": null,
   "outputs": [
    {
     "data": {
      "text/plain": "<IPython.core.display.Javascript object>",
      "application/javascript": "\n            require(\n                [\n                    \"notebook/js/codecell\",\n                    \"codemirror/mode/yaml/yaml\"\n                ],\n                function(cc){\n                    cc.CodeCell.options_default.highlight_modes.magic_yaml = {\n                        reg: [\"^%%yaml\"]\n                    }\n                }\n            );\n            "
     },
     "metadata": {},
     "output_type": "display_data"
    }
   ]
  },
  {
   "cell_type": "markdown",
   "source": "### We can emit this model as a Python class",
   "metadata": {
    "cell_id": "00007-535bd352-8a2f-4246-ba12-1131d9a82cdb",
    "deepnote_cell_type": "markdown",
    "deepnote_cell_height": 62
   }
  },
  {
   "cell_type": "code",
   "metadata": {
    "execution": {
     "iopub.execute_input": "2021-04-02T22:12:21.697717Z",
     "iopub.status.busy": "2021-04-02T22:12:21.696871Z",
     "iopub.status.idle": "2021-04-02T22:12:21.761009Z",
     "shell.execute_reply": "2021-04-02T22:12:21.760443Z"
    },
    "cell_id": "00008-fac39b1e-bb60-4961-9702-ad0aefe992bc",
    "deepnote_to_be_reexecuted": false,
    "source_hash": "278ec199",
    "execution_start": 1655111369971,
    "execution_millis": 105,
    "deepnote_cell_type": "code",
    "deepnote_cell_height": 701
   },
   "source": "print(PythonGenerator(yaml, gen_slots=False).serialize())",
   "execution_count": null,
   "outputs": [
    {
     "name": "stdout",
     "text": "# Auto generated from None by pythongen.py version: 0.9.0\n# Generation date: 2022-06-13T09:09:29\n# Schema: synopsis2\n#\n# id: http://example.org/sample/example1\n# description:\n# license:\n\nimport dataclasses\nimport sys\nimport re\nfrom jsonasobj2 import JsonObj, as_dict\nfrom typing import Optional, List, Union, Dict, ClassVar, Any\nfrom dataclasses import dataclass\nfrom linkml_runtime.linkml_model.meta import EnumDefinition, PermissibleValue, PvFormulaOptions\n\nfrom linkml_runtime.utils.slot import Slot\nfrom linkml_runtime.utils.metamodelcore import empty_list, empty_dict, bnode\nfrom linkml_runtime.utils.yamlutils import YAMLRoot, extended_str, extended_float, extended_int\nfrom linkml_runtime.utils.dataclass_extensions_376 import dataclasses_init_fn_with_kwargs\nfrom linkml_runtime.utils.formatutils import camelcase, underscore, sfx\nfrom linkml_runtime.utils.enumerations import EnumDefinitionImpl\nfrom rdflib import Namespace, URIRef\nfrom linkml_runtime.utils.curienamespace import CurieNamespace\nfrom linkml_runtime.utils.metamodelcore import Bool\n\nmetamodel_version = \"1.7.0\"\nversion = None\n\n# Overwrite dataclasses _init_fn to add **kwargs in __init__\ndataclasses._init_fn = dataclasses_init_fn_with_kwargs\n\n# Namespaces\nFOAF = CurieNamespace('foaf', 'http://xmlns.com/foaf/0.1/')\nSAMP = CurieNamespace('samp', 'http://example.org/model/')\nXSD = CurieNamespace('xsd', 'http://www.w3.org/2001/XMLSchema#')\nDEFAULT_ = SAMP\n\n\n# Types\nclass String(str):\n    type_class_uri = XSD.string\n    type_class_curie = \"xsd:string\"\n    type_name = \"string\"\n    type_model_uri = SAMP.String\n\n\nclass Int(int):\n    type_class_uri = XSD.integer\n    type_class_curie = \"xsd:integer\"\n    type_name = \"int\"\n    type_model_uri = SAMP.Int\n\n\nclass Boolean(Bool):\n    type_class_uri = XSD.boolean\n    type_class_curie = \"xsd:boolean\"\n    type_name = \"boolean\"\n    type_model_uri = SAMP.Boolean\n\n\n# Class references\nclass PersonId(extended_str):\n    pass\n\n\nclass FriendlyPersonId(PersonId):\n    pass\n\n\n@dataclass\nclass Person(YAMLRoot):\n    \"\"\"\n    A person, living or dead\n    \"\"\"\n    _inherited_slots: ClassVar[List[str]] = []\n\n    class_class_uri: ClassVar[URIRef] = SAMP.Person\n    class_class_curie: ClassVar[str] = \"samp:Person\"\n    class_name: ClassVar[str] = \"person\"\n    class_model_uri: ClassVar[URIRef] = SAMP.Person\n\n    id: Union[str, PersonId] = None\n    last_name: str = None\n    first_name: Optional[Union[str, List[str]]] = empty_list()\n    age: Optional[int] = None\n    living: Optional[Bool] = None\n    knows: Optional[Union[Union[str, PersonId], List[Union[str, PersonId]]]] = empty_list()\n\n    def __post_init__(self, *_: List[str], **kwargs: Dict[str, Any]):\n        if self._is_empty(self.id):\n            self.MissingRequiredField(\"id\")\n        if not isinstance(self.id, PersonId):\n            self.id = PersonId(self.id)\n\n        if self._is_empty(self.last_name):\n            self.MissingRequiredField(\"last_name\")\n        if not isinstance(self.last_name, str):\n            self.last_name = str(self.last_name)\n\n        if not isinstance(self.first_name, list):\n            self.first_name = [self.first_name] if self.first_name is not None else []\n        self.first_name = [v if isinstance(v, str) else str(v) for v in self.first_name]\n\n        if self.age is not None and not isinstance(self.age, int):\n            self.age = int(self.age)\n\n        if self.living is not None and not isinstance(self.living, Bool):\n            self.living = Bool(self.living)\n\n        if not isinstance(self.knows, list):\n            self.knows = [self.knows] if self.knows is not None else []\n        self.knows = [v if isinstance(v, PersonId) else PersonId(v) for v in self.knows]\n\n        super().__post_init__(**kwargs)\n\n\n@dataclass\nclass FriendlyPerson(Person):\n    \"\"\"\n    Any person that knows someone\n    \"\"\"\n    _inherited_slots: ClassVar[List[str]] = []\n\n    class_class_uri: ClassVar[URIRef] = SAMP.FriendlyPerson\n    class_class_curie: ClassVar[str] = \"samp:FriendlyPerson\"\n    class_name: ClassVar[str] = \"friendly_person\"\n    class_model_uri: ClassVar[URIRef] = SAMP.FriendlyPerson\n\n    id: Union[str, FriendlyPersonId] = None\n    last_name: str = None\n    knows: Union[Union[str, PersonId], List[Union[str, PersonId]]] = None\n\n    def __post_init__(self, *_: List[str], **kwargs: Dict[str, Any]):\n        if self._is_empty(self.id):\n            self.MissingRequiredField(\"id\")\n        if not isinstance(self.id, FriendlyPersonId):\n            self.id = FriendlyPersonId(self.id)\n\n        if self._is_empty(self.knows):\n            self.MissingRequiredField(\"knows\")\n        if not isinstance(self.knows, list):\n            self.knows = [self.knows] if self.knows is not None else []\n        self.knows = [v if isinstance(v, PersonId) else PersonId(v) for v in self.knows]\n\n        super().__post_init__(**kwargs)\n\n\n# Enumerations\n\n\n# Slots\n\n",
     "output_type": "stream"
    }
   ]
  },
  {
   "cell_type": "markdown",
   "source": "### Compile the python into a module",
   "metadata": {
    "cell_id": "00009-3dd86e25-251a-47e9-bdc8-820b805ad7a4",
    "deepnote_cell_type": "markdown",
    "deepnote_cell_height": 62
   }
  },
  {
   "cell_type": "code",
   "metadata": {
    "execution": {
     "iopub.execute_input": "2021-04-02T22:12:21.768642Z",
     "iopub.status.busy": "2021-04-02T22:12:21.767661Z",
     "iopub.status.idle": "2021-04-02T22:12:21.824510Z",
     "shell.execute_reply": "2021-04-02T22:12:21.824921Z"
    },
    "cell_id": "00010-d6148cdc-a967-49a4-8f47-1aebf6a887ab",
    "deepnote_to_be_reexecuted": false,
    "source_hash": "96bf9f0f",
    "execution_start": 1655111370075,
    "execution_millis": 12,
    "deepnote_cell_type": "code",
    "deepnote_cell_height": 117
   },
   "source": "spec = compile(PythonGenerator(yaml).serialize(), 'test', 'exec')\nmodule = ModuleType('test')\nexec(spec, module.__dict__)",
   "execution_count": null,
   "outputs": []
  },
  {
   "cell_type": "markdown",
   "source": "### We can emit a UML rendering of  this model",
   "metadata": {
    "cell_id": "00011-17d26a17-356a-4f2c-956f-a70bfd88e9f5",
    "deepnote_cell_type": "markdown",
    "deepnote_cell_height": 62
   }
  },
  {
   "cell_type": "code",
   "metadata": {
    "execution": {
     "iopub.execute_input": "2021-04-02T22:12:21.832651Z",
     "iopub.status.busy": "2021-04-02T22:12:21.831978Z",
     "iopub.status.idle": "2021-04-02T22:12:21.890688Z",
     "shell.execute_reply": "2021-04-02T22:12:21.891283Z"
    },
    "cell_id": "00012-58535da7-6e2f-46d9-947c-625589a11cfd",
    "deepnote_to_be_reexecuted": false,
    "source_hash": "13416757",
    "execution_start": 1655111370138,
    "execution_millis": 64,
    "deepnote_cell_type": "code",
    "deepnote_cell_height": 515,
    "deepnote_output_heights": [
     418
    ]
   },
   "source": "display(HTML(f'<img src=\"{YumlGenerator(yaml).serialize()}\"/>'))",
   "execution_count": null,
   "outputs": [
    {
     "data": {
      "text/plain": "<IPython.core.display.HTML object>",
      "text/html": "<img src=\"https://yuml.me/diagram/nofunky;dir:TB/class/[Person]<knows 0..*- [Person|id:string;first_name:string *;last_name:string;age:int %3F;living:boolean %3F],[FriendlyPerson|id(i):string;first_name(i):string *;last_name(i):string;age(i):int %3F;living(i):boolean %3F]- knows 1..*>[Person],[Person]^-[FriendlyPerson],[FriendlyPerson]\"/>"
     },
     "metadata": {},
     "output_type": "display_data"
    }
   ]
  },
  {
   "cell_type": "markdown",
   "source": "### We can emit a JSON-LD context for the model:",
   "metadata": {
    "cell_id": "00013-b6e9b4ee-1c94-47c8-8c84-d51ff02070ce",
    "deepnote_cell_type": "markdown",
    "deepnote_cell_height": 62
   }
  },
  {
   "cell_type": "code",
   "metadata": {
    "execution": {
     "iopub.execute_input": "2021-04-02T22:12:21.898783Z",
     "iopub.status.busy": "2021-04-02T22:12:21.898082Z",
     "iopub.status.idle": "2021-04-02T22:12:21.957854Z",
     "shell.execute_reply": "2021-04-02T22:12:21.958634Z"
    },
    "cell_id": "00014-d28fbc72-53da-437c-ba06-d4474c00afbf",
    "deepnote_to_be_reexecuted": false,
    "source_hash": "a4fe2a87",
    "execution_start": 1655111370192,
    "execution_millis": 41,
    "deepnote_cell_type": "code",
    "deepnote_cell_height": 685.65625
   },
   "source": "cntxt = ContextGenerator(yaml).serialize(base=\"http://example.org/people/\")\nprint(cntxt)",
   "execution_count": null,
   "outputs": [
    {
     "name": "stdout",
     "text": "{\n   \"_comments\": \"Auto generated from None by jsonldcontextgen.py version: 0.1.1\\n    Generation date: 2022-06-13T09:09:30\\n    Schema: synopsis2\\n    metamodel version: 1.7.0\\n    model version: None\\n    \\n    id: http://example.org/sample/example1\\n    description: \\n    license: \\n    \",\n   \"@context\": {\n      \"foaf\": \"http://xmlns.com/foaf/0.1/\",\n      \"samp\": \"http://example.org/model/\",\n      \"xsd\": \"http://www.w3.org/2001/XMLSchema#\",\n      \"@vocab\": \"http://example.org/model/\",\n      \"age\": {\n         \"@type\": \"xsd:integer\",\n         \"@id\": \"foaf:age\"\n      },\n      \"first_name\": {\n         \"@id\": \"foaf:firstName\"\n      },\n      \"id\": \"@id\",\n      \"knows\": {\n         \"@type\": \"@id\",\n         \"@id\": \"foaf:knows\"\n      },\n      \"last_name\": {\n         \"@id\": \"foaf:lastName\"\n      },\n      \"living\": {\n         \"@type\": \"xsd:boolean\"\n      },\n      \"@base\": \"http://example.org/people/\"\n   }\n}\n\n",
     "output_type": "stream"
    }
   ]
  },
  {
   "cell_type": "markdown",
   "source": "### The python model can be used to create classes",
   "metadata": {
    "cell_id": "00015-bf74c5eb-844b-49c7-b8b4-91399a682cd4",
    "deepnote_cell_type": "markdown",
    "deepnote_cell_height": 62
   }
  },
  {
   "cell_type": "code",
   "metadata": {
    "execution": {
     "iopub.execute_input": "2021-04-02T22:12:21.964934Z",
     "iopub.status.busy": "2021-04-02T22:12:21.964154Z",
     "iopub.status.idle": "2021-04-02T22:12:21.967512Z",
     "shell.execute_reply": "2021-04-02T22:12:21.968318Z"
    },
    "cell_id": "00016-aa48218b-525a-49e4-81fe-d2b5b0b771af",
    "deepnote_to_be_reexecuted": false,
    "source_hash": "a175c736",
    "execution_start": 1655111370231,
    "execution_millis": 3,
    "deepnote_cell_type": "code",
    "deepnote_cell_height": 147.6875
   },
   "source": "# Generate a person\njoe_smith = module.Person(id=\"42\", last_name=\"smith\", first_name=['Joe', 'Bob'], age=43)\nprint(joe_smith)",
   "execution_count": null,
   "outputs": [
    {
     "name": "stdout",
     "text": "Person(id='42', last_name='smith', first_name=['Joe', 'Bob'], age=43, living=None, knows=[])\n",
     "output_type": "stream"
    }
   ]
  },
  {
   "cell_type": "markdown",
   "source": "### and can be combined w/ the JSON-LD Context to generate RDF",
   "metadata": {
    "cell_id": "00017-bc5cc51f-f492-4d80-a404-d55357dfd742",
    "deepnote_cell_type": "markdown",
    "deepnote_cell_height": 62
   }
  },
  {
   "cell_type": "code",
   "metadata": {
    "execution": {
     "iopub.execute_input": "2021-04-02T22:12:21.974031Z",
     "iopub.status.busy": "2021-04-02T22:12:21.973340Z",
     "iopub.status.idle": "2021-04-02T22:12:21.990949Z",
     "shell.execute_reply": "2021-04-02T22:12:21.991340Z"
    },
    "cell_id": "00018-fdfe399f-ebbb-44cf-8267-487713afce73",
    "deepnote_to_be_reexecuted": false,
    "source_hash": "4a8ba11d",
    "execution_start": 1655111370232,
    "execution_millis": 2,
    "deepnote_cell_type": "code",
    "deepnote_cell_height": 773
   },
   "source": "jsonld = json_dumper.dumps(joe_smith, cntxt)\nprint(jsonld)\ng = Graph()\ng.parse(data=jsonld, format=\"json-ld\")\nprint(g.serialize(format=\"turtle\").decode())",
   "execution_count": null,
   "outputs": [
    {
     "name": "stdout",
     "text": "{\n  \"id\": \"42\",\n  \"last_name\": \"smith\",\n  \"first_name\": [\n    \"Joe\",\n    \"Bob\"\n  ],\n  \"age\": 43,\n  \"@type\": \"Person\",\n  \"@context\": {\n    \"foaf\": \"http://xmlns.com/foaf/0.1/\",\n    \"samp\": \"http://example.org/model/\",\n    \"xsd\": \"http://www.w3.org/2001/XMLSchema#\",\n    \"@vocab\": \"http://example.org/model/\",\n    \"age\": {\n      \"@type\": \"xsd:integer\",\n      \"@id\": \"foaf:age\"\n    },\n    \"first_name\": {\n      \"@id\": \"foaf:firstName\"\n    },\n    \"id\": \"@id\",\n    \"knows\": {\n      \"@type\": \"@id\",\n      \"@id\": \"foaf:knows\"\n    },\n    \"last_name\": {\n      \"@id\": \"foaf:lastName\"\n    },\n    \"living\": {\n      \"@type\": \"xsd:boolean\"\n    },\n    \"@base\": \"http://example.org/people/\"\n  }\n}\n@prefix : <http://example.org/model/> .\n@prefix foaf: <http://xmlns.com/foaf/0.1/> .\n@prefix samp: <http://example.org/model/> .\n@prefix xsd: <http://www.w3.org/2001/XMLSchema#> .\n\n<http://example.org/people/42> a samp:Person ;\n    foaf:age 43 ;\n    foaf:firstName \"Bob\",\n        \"Joe\" ;\n    foaf:lastName \"smith\" .\n\n\n",
     "output_type": "stream"
    }
   ]
  },
  {
   "cell_type": "markdown",
   "source": "### The model can be turned into ShEx",
   "metadata": {
    "cell_id": "00019-06f9f33b-7869-4c0b-bc23-8e265fb5b074",
    "deepnote_cell_type": "markdown",
    "deepnote_cell_height": 62
   }
  },
  {
   "cell_type": "code",
   "metadata": {
    "execution": {
     "iopub.execute_input": "2021-04-02T22:12:21.997764Z",
     "iopub.status.busy": "2021-04-02T22:12:21.997122Z",
     "iopub.status.idle": "2021-04-02T22:12:22.067571Z",
     "shell.execute_reply": "2021-04-02T22:12:22.067966Z"
    },
    "cell_id": "00020-2aa4fd18-ee79-45b7-a0af-009b622fa9f1",
    "deepnote_to_be_reexecuted": false,
    "source_hash": "8a472635",
    "execution_start": 1655111370283,
    "execution_millis": 12,
    "deepnote_cell_type": "code",
    "deepnote_cell_height": 719
   },
   "source": "shex = ShExGenerator(yaml).serialize(collections=False)\nprint(shex)",
   "execution_count": null,
   "outputs": [
    {
     "name": "stdout",
     "text": "# metamodel_version: 1.7.0\nBASE <http://example.org/model/>\nPREFIX foaf: <http://xmlns.com/foaf/0.1/>\nPREFIX rdf: <http://www.w3.org/1999/02/22-rdf-syntax-ns#>\nPREFIX xsd: <http://www.w3.org/2001/XMLSchema#>\n\n\n<String> xsd:string\n\n<Int> xsd:integer\n\n<Boolean> xsd:boolean\n\n<FriendlyPerson> CLOSED {\n    (  $<FriendlyPerson_tes> (  &<Person_tes> ;\n          rdf:type [ <Person> ] ? ;\n          foaf:knows @<Person> +\n       ) ;\n       rdf:type [ <FriendlyPerson> ]\n    )\n}\n\n<Person>  (\n    CLOSED {\n       (  $<Person_tes> (  foaf:firstName @<String> * ;\n             foaf:lastName @<String> ;\n             foaf:age @<Int> ? ;\n             <living> @<Boolean> ? ;\n             foaf:knows @<Person> *\n          ) ;\n          rdf:type [ <Person> ]\n       )\n    } OR @<FriendlyPerson>\n)\n\n\n\n",
     "output_type": "stream"
    }
   ]
  },
  {
   "cell_type": "markdown",
   "source": "### The ShEx can then be used to validate RDF",
   "metadata": {
    "cell_id": "00021-aedb8e2b-d1c4-4f2f-a9f5-abc753b58494",
    "deepnote_cell_type": "markdown",
    "deepnote_cell_height": 62
   }
  },
  {
   "cell_type": "code",
   "metadata": {
    "execution": {
     "iopub.execute_input": "2021-04-02T22:12:22.072610Z",
     "iopub.status.busy": "2021-04-02T22:12:22.071675Z",
     "iopub.status.idle": "2021-04-02T22:12:22.224039Z",
     "shell.execute_reply": "2021-04-02T22:12:22.224849Z"
    },
    "cell_id": "00022-6d0a2eb3-903b-4a79-bc99-4e6963f49f54",
    "deepnote_to_be_reexecuted": false,
    "source_hash": "47ad5f97",
    "execution_start": 1655111370300,
    "execution_millis": 799,
    "deepnote_cell_type": "code",
    "deepnote_cell_height": 183.6875
   },
   "source": "from pyshex.evaluate import evaluate\nr = evaluate(g, shex,\n             start=\"http://example.org/model/Person\",\n             focus=\"http://example.org/people/42\")\nprint(\"Conforms\" if r[0] else r[1])",
   "execution_count": null,
   "outputs": [
    {
     "name": "stdout",
     "text": "Conforms\n",
     "output_type": "stream"
    }
   ]
  },
  {
   "cell_type": "code",
   "metadata": {
    "execution": {
     "iopub.execute_input": "2021-04-02T22:12:22.250603Z",
     "iopub.status.busy": "2021-04-02T22:12:22.250047Z",
     "iopub.status.idle": "2021-04-02T22:12:22.252819Z",
     "shell.execute_reply": "2021-04-02T22:12:22.253779Z"
    },
    "cell_id": "00023-32805dd0-3499-46f8-8bce-0e8752c40ac5",
    "deepnote_to_be_reexecuted": false,
    "source_hash": "871623a4",
    "execution_start": 1655111370738,
    "execution_millis": 456,
    "deepnote_cell_type": "code",
    "deepnote_cell_height": 165.6875
   },
   "source": "r = evaluate(g, shex,\n             start=\"http://example.org/model/FriendlyPerson\",\n             focus=\"http://example.org/people/42\")\nprint(\"Conforms\" if r[0] else r[1])",
   "execution_count": null,
   "outputs": [
    {
     "name": "stdout",
     "text": "Conforms\n",
     "output_type": "stream"
    }
   ]
  },
  {
   "cell_type": "code",
   "metadata": {
    "cell_id": "00024-a29a4077-a289-4fe1-9256-ee0d9c992584",
    "deepnote_to_be_reexecuted": false,
    "source_hash": "b623e53d",
    "execution_start": 1655111370930,
    "execution_millis": 0,
    "deepnote_cell_type": "code",
    "deepnote_cell_height": 81
   },
   "source": "",
   "execution_count": null,
   "outputs": []
  },
  {
   "cell_type": "markdown",
   "source": "<a style='text-decoration:none;line-height:16px;display:flex;color:#5B5B62;padding:10px;justify-content:end;' href='https://deepnote.com?utm_source=created-in-deepnote-cell&projectId=bb0385ef-6087-4e6a-8d24-bcb3672ff23a' target=\"_blank\">\n<img alt='Created in deepnote.com' style='display:inline;max-height:16px;margin:0px;margin-right:7.5px;' src='data:image/svg+xml;base64,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' > </img>\nCreated in <span style='font-weight:600;margin-left:4px;'>Deepnote</span></a>",
   "metadata": {
    "tags": [],
    "created_in_deepnote_cell": true,
    "deepnote_cell_type": "markdown"
   }
  }
 ],
 "nbformat": 4,
 "nbformat_minor": 2,
 "metadata": {
  "kernelspec": {
   "display_name": "Python 3 (ipykernel)",
   "language": "python",
   "name": "python3"
  },
  "language_info": {
   "codemirror_mode": {
    "name": "ipython",
    "version": 3
   },
   "file_extension": ".py",
   "mimetype": "text/x-python",
   "name": "python",
   "nbconvert_exporter": "python",
   "pygments_lexer": "ipython3",
   "version": "3.9.7"
  },
  "deepnote_notebook_id": "543bbab8-f033-4d06-8a36-fc05d65db51a",
  "deepnote": {},
  "deepnote_execution_queue": []
 }
}